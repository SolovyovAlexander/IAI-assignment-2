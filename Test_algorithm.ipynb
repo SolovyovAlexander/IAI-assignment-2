{
  "nbformat": 4,
  "nbformat_minor": 0,
  "metadata": {
    "colab": {
      "name": "Welcome To Colaboratory",
      "version": "0.3.2",
      "provenance": [],
      "collapsed_sections": [],
      "toc_visible": true,
      "include_colab_link": true
    },
    "kernelspec": {
      "display_name": "Python 3",
      "name": "python3"
    }
  },
  "cells": [
    {
      "cell_type": "markdown",
      "metadata": {
        "id": "view-in-github",
        "colab_type": "text"
      },
      "source": [
        "<a href=\"https://colab.research.google.com/github/SolovyovAlexander/IAI-assignment-2/blob/master/Test_algorithm.ipynb\" target=\"_parent\"><img src=\"https://colab.research.google.com/assets/colab-badge.svg\" alt=\"Open In Colab\"/></a>"
      ]
    },
    {
      "metadata": {
        "colab_type": "text",
        "id": "5fCEDCU_qrC0"
      },
      "cell_type": "markdown",
      "source": [
        "<img height=\"45px\" src=\"https://colab.research.google.com/img/colab_favicon.ico\" align=\"left\" hspace=\"10px\" vspace=\"0px\">\n",
        "\n",
        "<h1>Welcome to Colaboratory!</h1>\n",
        "\n",
        "Colaboratory is a free Jupyter notebook environment that requires no setup and runs entirely in the cloud.\n",
        "\n",
        "With Colaboratory you can write and execute code, save and share your analyses, and access powerful computing resources, all for free from your browser."
      ]
    },
    {
      "metadata": {
        "id": "H6NvxjQimmXb",
        "colab_type": "code",
        "colab": {
          "base_uri": "https://localhost:8080/",
          "height": 151
        },
        "outputId": "4a7b6a34-68b7-457e-9364-3ce4afa2db85"
      },
      "cell_type": "code",
      "source": [
        "from random import randint\n",
        "import math\n",
        "from PIL import Image, ImageDraw\n",
        "\n",
        "ideal = Image.open(\"input.png\")\n",
        "\n",
        "\n",
        "# draws circle with random coordinates, random colour and random size\n",
        "def draw_random_circle(draw):\n",
        "    r = randint(0, 255)\n",
        "    g = randint(0, 255)\n",
        "    b = randint(0, 255)\n",
        "    radius = randint(12, 27)\n",
        "    x = randint(0, 512)\n",
        "    y = randint(0, 512)\n",
        "    draw.ellipse((x - radius, y - radius, x + radius, y + radius), fill=(r, g, b), outline=None)\n",
        "\n",
        "\n",
        "# draws circle with coordinates x and y, colour = list with RGB components, radius = 2\n",
        "def draw_circle_with_cordinates(x: int, y: int, colour, draw1):\n",
        "    radius = 2\n",
        "    x = randint(x - 1, x + 1)\n",
        "    y = randint(y - 1, y + 1)\n",
        "    draw1.ellipse((x - radius, y - radius, x + radius, y + radius), fill=colour, outline=None)\n",
        "\n",
        "\n",
        "# creates picture with 1500-1600 random circles\n",
        "def create_picture():\n",
        "    img = Image.new('RGB', (512, 512), 'WHITE')\n",
        "    draw = ImageDraw.Draw(img)\n",
        "\n",
        "    for i in range(randint(1500, 1600)):\n",
        "        draw_random_circle(draw)\n",
        "\n",
        "    img.save(\"pic.png\", 'PNG')\n",
        "    return img\n",
        "\n",
        "\n",
        "# creates population of images, n = size of population\n",
        "def create_population(n: int):\n",
        "    population = []\n",
        "    for i in range(n):\n",
        "        population.append(create_picture())\n",
        "    return population\n",
        "\n",
        "\n",
        "# selects half of the best elements in the population\n",
        "def fitness(population):\n",
        "    arr = []\n",
        "    chosen = []\n",
        "    for i in range(len(population)):\n",
        "        arr.append([score(population[i]), population[i]])\n",
        "    arr.sort(key=lambda x: x[0])\n",
        "    for i in range(len(arr) // 2):\n",
        "        chosen.append(arr[i][1])\n",
        "\n",
        "    return chosen\n",
        "\n",
        "\n",
        "# how different is the image from the input\n",
        "def score(image):\n",
        "    n = 0\n",
        "    for i in range(64):\n",
        "        for j in range(64):\n",
        "            ideal_pixel = ideal.getpixel((i * 8, j * 8))\n",
        "            image_pixel = image.getpixel((i * 8, j * 8))\n",
        "            n = n + abs(ideal_pixel[0] - image_pixel[0]) + abs(ideal_pixel[1] - image_pixel[1]) + abs(\n",
        "                ideal_pixel[2] - image_pixel[2])\n",
        "    return n\n",
        "\n",
        "\n",
        "# crosses 2 images\n",
        "def crossover(mum, dad):\n",
        "    child = Image.new('RGB', (512, 512), 'WHITE')\n",
        "    draw = ImageDraw.Draw(child)\n",
        "\n",
        "    for i in range(512):\n",
        "        for j in range(512):\n",
        "            ideal_pixel = ideal.getpixel((i, j))\n",
        "            mum_pixel = mum.getpixel((i, j))\n",
        "            dad_pixel = dad.getpixel((i, j))\n",
        "            if math.sqrt(((mum_pixel[0] - ideal_pixel[0]) ** 2 + (mum_pixel[1] - ideal_pixel[1]) ** 2 + (\n",
        "                    mum_pixel[2] - ideal_pixel[2]) ** 2)) < math.sqrt(((dad_pixel[0] - ideal_pixel[0]) ** 2 + (\n",
        "                    dad_pixel[1] - ideal_pixel[1]) ** 2 + (dad_pixel[2] - ideal_pixel[2]) ** 2)):\n",
        "                draw_circle_with_cordinates(i, j, mum_pixel, draw)\n",
        "            else:\n",
        "                draw_circle_with_cordinates(i, j, dad_pixel, draw)\n",
        "    mutation(draw)\n",
        "    return child\n",
        "\n",
        "\n",
        "# accidentally crosses elements of the population\n",
        "def crossing(population: list):\n",
        "    n = len(population)\n",
        "    for i in range(n):\n",
        "        mum = randint(0, n - 1)\n",
        "        dad = randint(0, n - 1)\n",
        "        if mum != dad:\n",
        "            population.append(crossover(population[mum], population[dad]))\n",
        "        else:\n",
        "            population.append(crossover(population[mum], population[0]))\n",
        "\n",
        "    return population\n",
        "\n",
        "\n",
        "# this function run everything\n",
        "def start():\n",
        "    population = create_population(10)\n",
        "    population = fitness(population)\n",
        "    population = crossing(population)\n",
        "    begin_evolution(population)\n",
        "\n",
        "\n",
        "\n",
        "# continuation of the start function, for convenience\n",
        "def begin_evolution(population):\n",
        "    a = population\n",
        "    for i in range(1000):\n",
        "        a = fitness(a)\n",
        "        a = crossing(a)\n",
        "        print(\"population = \" + str(i + 1))\n",
        "        if i%10==0:\n",
        "            string = \"pic\" + str(i + 1) + \".png\"\n",
        "            a[9].save(string, \"PNG\")\n",
        "    a[0].show()\n",
        "    return a\n",
        "\n",
        "\n",
        "# mutates the image with some probability\n",
        "def mutation(draw):\n",
        "    for i in range(512):\n",
        "        for j in range(512):\n",
        "            rand = randint(0, 5000)\n",
        "            if rand == 1:\n",
        "                ideal_pixel = ideal.getpixel((i, j))\n",
        "                draw_circle_with_cordinates(i, j, ideal_pixel, draw)\n",
        "    return 1\n",
        "\n",
        "\n",
        "\n",
        "\n",
        "start()"
      ],
      "execution_count": 0,
      "outputs": [
        {
          "output_type": "stream",
          "text": [
            "population = 1\n",
            "population = 2\n",
            "population = 3\n",
            "population = 4\n",
            "population = 5\n",
            "population = 6\n",
            "population = 7\n",
            "population = 8\n"
          ],
          "name": "stdout"
        }
      ]
    },
    {
      "metadata": {
        "colab_type": "text",
        "id": "GJBs_flRovLc"
      },
      "cell_type": "markdown",
      "source": [
        "## Getting Started\n",
        "\n",
        "The document you are reading is a  [Jupyter notebook](https://jupyter.org/), hosted in Colaboratory. It is not a static page, but an interactive environment that lets you write and execute code in Python and other languages.\n",
        "\n",
        "For example, here is a **code cell** with a short Python script that computes a value, stores it in a variable, and prints the result:"
      ]
    },
    {
      "metadata": {
        "colab_type": "code",
        "id": "gJr_9dXGpJ05",
        "outputId": "5626194c-e802-4293-942d-2908885c3c1f",
        "colab": {
          "height": 35
        }
      },
      "cell_type": "code",
      "source": [
        "seconds_in_a_day = 24 * 60 * 60\n",
        "seconds_in_a_day"
      ],
      "execution_count": 0,
      "outputs": [
        {
          "output_type": "execute_result",
          "data": {
            "text/plain": [
              "86400"
            ]
          },
          "metadata": {
            "tags": []
          },
          "execution_count": 0
        }
      ]
    },
    {
      "metadata": {
        "colab_type": "text",
        "id": "2fhs6GZ4qFMx"
      },
      "cell_type": "markdown",
      "source": [
        "To execute the code in the above cell, select it with a click and then either press the ▷ button to the left of the code, or use the keyboard shortcut \"⌘/Ctrl+Enter\".\n",
        "\n",
        "All cells modify the same global state, so variables that you define by executing a cell can be used in other cells:"
      ]
    },
    {
      "metadata": {
        "colab_type": "code",
        "id": "-gE-Ez1qtyIA",
        "outputId": "8d2e4259-4682-4e19-b683-7b9087f28820",
        "colab": {
          "height": 35
        }
      },
      "cell_type": "code",
      "source": [
        "seconds_in_a_week = 7 * seconds_in_a_day\n",
        "seconds_in_a_week"
      ],
      "execution_count": 0,
      "outputs": [
        {
          "output_type": "execute_result",
          "data": {
            "text/plain": [
              "604800"
            ]
          },
          "metadata": {
            "tags": []
          },
          "execution_count": 0
        }
      ]
    },
    {
      "metadata": {
        "colab_type": "text",
        "id": "lSrWNr3MuFUS"
      },
      "cell_type": "markdown",
      "source": [
        "For more information about working with Colaboratory notebooks, see [Overview of Colaboratory](/notebooks/basic_features_overview.ipynb).\n"
      ]
    },
    {
      "metadata": {
        "colab_type": "text",
        "id": "-Rh3-Vt9Nev9"
      },
      "cell_type": "markdown",
      "source": [
        "## More Resources\n",
        "\n",
        "Learn how to make the most of Python, Jupyter, Colaboratory, and related tools with these resources:\n",
        "\n",
        "### Working with Notebooks in Colaboratory\n",
        "- [Overview of Colaboratory](/notebooks/basic_features_overview.ipynb)\n",
        "- [Guide to Markdown](/notebooks/markdown_guide.ipynb)\n",
        "- [Importing libraries and installing dependencies](/notebooks/snippets/importing_libraries.ipynb)\n",
        "- [Saving and loading notebooks in GitHub](https://colab.research.google.com/github/googlecolab/colabtools/blob/master/notebooks/colab-github-demo.ipynb)\n",
        "- [Interactive forms](/notebooks/forms.ipynb)\n",
        "- [Interactive widgets](/notebooks/widgets.ipynb)\n",
        "\n",
        "### Working with Data\n",
        "- [Loading data: Drive, Sheets, and Google Cloud Storage](/notebooks/io.ipynb) \n",
        "- [Charts: visualizing data](/notebooks/charts.ipynb)\n",
        "- [Getting started with BigQuery](/notebooks/bigquery.ipynb)\n",
        "\n",
        "### Machine Learning Crash Course\n",
        "These are a few of the notebooks from Google's online Machine Learning course. See the [full course website](https://developers.google.com/machine-learning/crash-course/) for more.\n",
        "- [Intro to Pandas](/notebooks/mlcc/intro_to_pandas.ipynb)\n",
        "- [Tensorflow concepts](/notebooks/mlcc/tensorflow_programming_concepts.ipynb)\n",
        "- [First steps with TensorFlow](/notebooks/mlcc/first_steps_with_tensor_flow.ipynb)\n",
        "- [Intro to neural nets](/notebooks/mlcc/intro_to_neural_nets.ipynb)\n",
        "- [Intro to sparse data and embeddings](/notebooks/mlcc/intro_to_sparse_data_and_embeddings.ipynb)\n",
        "\n",
        "### Using Accelerated Hardware\n",
        "- [TensorFlow with GPUs](/notebooks/gpu.ipynb)\n",
        "- [TensorFlow with TPUs](/notebooks/tpu.ipynb)"
      ]
    },
    {
      "metadata": {
        "colab_type": "text",
        "id": "P-H6Lw1vyNNd"
      },
      "cell_type": "markdown",
      "source": [
        "## Machine Learning Examples: Seedbank\n",
        "\n",
        "To see end-to-end examples of the interactive machine learning analyses that Colaboratory makes possible, check out the [Seedbank](https://research.google.com/seedbank/) project.\n",
        "\n",
        "A few featured examples:\n",
        "\n",
        "- [Neural Style Transfer](https://research.google.com/seedbank/seed/neural_style_transfer_with_tfkeras): Use deep learning to transfer style between images.\n",
        "- [EZ NSynth](https://research.google.com/seedbank/seed/ez_nsynth): Synthesize audio with WaveNet auto-encoders.\n",
        "- [Fashion MNIST with Keras and TPUs](https://research.google.com/seedbank/seed/fashion_mnist_with_keras_and_tpus): Classify fashion-related images with deep learning.\n",
        "- [DeepDream](https://research.google.com/seedbank/seed/deepdream): Produce DeepDream images from your own photos.\n",
        "- [Convolutional VAE](https://research.google.com/seedbank/seed/convolutional_vae): Create a generative model of handwritten digits."
      ]
    },
    {
      "metadata": {
        "id": "wa9-xq60mZw-",
        "colab_type": "code",
        "colab": {}
      },
      "cell_type": "code",
      "source": [
        ""
      ],
      "execution_count": 0,
      "outputs": []
    }
  ]
}